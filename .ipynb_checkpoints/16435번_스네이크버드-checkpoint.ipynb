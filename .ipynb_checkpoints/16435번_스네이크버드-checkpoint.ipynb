{
 "cells": [
  {
   "cell_type": "markdown",
   "metadata": {},
   "source": [
    "# 문제\n",
    "\n",
    "스네이크버드는 뱀과 새의 모습을 닮은 귀여운 생물체입니다. \n",
    "\n",
    "스네이크버드의 주요 먹이는 과일이며 과일 하나를 먹으면 길이가 1만큼 늘어납니다.\n",
    "\n",
    "과일들은 지상으로부터 일정 높이를 두고 떨어져 있으며 i (1 ≤ i ≤ N) 번째 과일의 높이는 hi입니다. \n",
    "\n",
    "스네이크버드는 자신의 길이보다 작거나 같은 높이에 있는 과일들을 먹을 수 있습니다.\n",
    "\n",
    "스네이크버드의 처음 길이가 L일때 과일들을 먹어 늘릴 수 있는 최대 길이를 구하세요.\n",
    "\n",
    "\n",
    "# 입력\n",
    "\n",
    "첫 번째 줄에 과일의 개수 N (1 ≤ N ≤ 1,000) 과 스네이크버드의 초기 길이 정수 L (1 ≤ L ≤ 10,000) 이 주어집니다.\n",
    "\n",
    "두 번째 줄에는 정수 h1, h2, ..., hN (1 ≤ hi ≤ 10,000) 이 주어집니다.\n",
    "\n",
    "# 출력\n",
    "첫 번째 줄에 스네이크버드의 최대 길이를 출력합니다."
   ]
  },
  {
   "cell_type": "markdown",
   "metadata": {},
   "source": [
    "# 풀이\n",
    "## 방법 1\n",
    "\n",
    "1. 과일의 개수, 스네이크버드 초기 길이를 받는다.\n",
    "2. 과일의 높이를 리스트 배열로 받는다.\n",
    "3. for문을 과일의 개수만큼 반복하여 스네이크버드 초기 길이보다 낮은 높이의 과일을 찾는다.\n",
    "4. 찾으면 과일의 개수를 하나 줄이고, 과일의 높이 배열에서 삭제하고, 스네이크버드 길이를 1 늘린다.\n",
    "5. 반복\n",
    "6. 스네이크버드 최대길이 출력"
   ]
  },
  {
   "cell_type": "code",
   "execution_count": 15,
   "metadata": {},
   "outputs": [
    {
     "name": "stdout",
     "output_type": "stream",
     "text": [
      "3 10\n",
      "10 11 13\n",
      "12\n"
     ]
    }
   ],
   "source": [
    "# 정답\n",
    "N, L = input().split()\n",
    "N = int(N)\n",
    "L = int(L)\n",
    "\n",
    "#입력이 빠름\n",
    "H = list(map(int, input().split()))\n",
    "\n",
    "#과일높이 정렬\n",
    "H.sort()\n",
    "\n",
    "#과일 높이 인덱스\n",
    "index = 0\n",
    "\n",
    "#과일의 개수만큼 반복\n",
    "for i in range(N):\n",
    "    if int(H[index]) <= L:\n",
    "        L += 1\n",
    "        del H[index]\n",
    "    else:\n",
    "        index += 1\n",
    "\n",
    "print(L)"
   ]
  },
  {
   "cell_type": "code",
   "execution_count": 20,
   "metadata": {},
   "outputs": [
    {
     "name": "stdout",
     "output_type": "stream",
     "text": [
      "3 10\n",
      "10 11 13\n",
      "12\n"
     ]
    }
   ],
   "source": [
    "# 고찰\n",
    "N, L = input().split()\n",
    "N = int(N)\n",
    "L = int(L)\n",
    "\n",
    "H = input().split()\n",
    "\n",
    "#과일높이 정렬\n",
    "H.sort()\n",
    "\n",
    "#과일 높이 인덱스 \n",
    "index = 0\n",
    "\n",
    "#과일의 개수만큼 반복\n",
    "for i in range(N):\n",
    "    if int(H[index]) <= L:\n",
    "        L += 1\n",
    "        del H[index]\n",
    "    else:\n",
    "        index += 1\n",
    "\n",
    "print(L)"
   ]
  }
 ],
 "metadata": {
  "kernelspec": {
   "display_name": "Python 3",
   "language": "python",
   "name": "python3"
  },
  "language_info": {
   "codemirror_mode": {
    "name": "ipython",
    "version": 3
   },
   "file_extension": ".py",
   "mimetype": "text/x-python",
   "name": "python",
   "nbconvert_exporter": "python",
   "pygments_lexer": "ipython3",
   "version": "3.7.9"
  }
 },
 "nbformat": 4,
 "nbformat_minor": 4
}
